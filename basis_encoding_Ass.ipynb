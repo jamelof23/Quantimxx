{
  "nbformat": 4,
  "nbformat_minor": 0,
  "metadata": {
    "colab": {
      "provenance": [],
      "include_colab_link": true
    },
    "kernelspec": {
      "name": "python3",
      "display_name": "Python 3"
    },
    "language_info": {
      "name": "python"
    }
  },
  "cells": [
    {
      "cell_type": "markdown",
      "metadata": {
        "id": "view-in-github",
        "colab_type": "text"
      },
      "source": [
        "<a href=\"https://colab.research.google.com/github/jamelof23/Quantimxx/blob/main/basis_encoding_Ass.ipynb\" target=\"_parent\"><img src=\"https://colab.research.google.com/assets/colab-badge.svg\" alt=\"Open In Colab\"/></a>"
      ]
    },
    {
      "cell_type": "markdown",
      "source": [
        "# Classical Data Encoding using Basis Encoding\n",
        "\n",
        "## Objective\n",
        "We demonstrate how to encode classical bit strings into a quantum state vector,\n",
        "normalize the state, convert it into a quantum circuit, and transpile the circuit into a gate set consisting of u1, u2, u3, and CNOT gates.\n",
        "\n",
        "\n",
        "## Basis Encoding Explanation\n",
        "This method follows **basis encoding** because each classical bit string is mapped directly to a computational basis state in the quantum state vector, see the [glossary](https://pennylane.ai/qml/glossary/quantum_embedding) for details.\n",
        "\n",
        "### Why is this Basis Encoding?\n",
        "- In **basis encoding**, classical bit strings are represented as computational basis states of the quantum system.\n",
        "- Each bit string corresponds to an index in the quantum state vector, with a coefficient (amplitude) assigned to it.\n",
        "- The final quantum state is a superposition of these basis states.\n",
        "\n",
        "### Breakdown of Encoding in This Lab:\n",
        "1. **Bit String to Index Mapping:**\n",
        "   - Example: \"000\" → Basis state |000⟩ (index 0 in the state vector).\n",
        "   - Example: \"001\" → Basis state |001⟩ (index 1 in the state vector).\n",
        "   - Example: \"010\" → Basis state |010⟩ (index 2 in the state vector).\n",
        "   - Example: \"011\" → Basis state |011⟩ (index 3 in the state vector).\n",
        "   - Example: \"100\" → Basis state |100⟩ (index 4 in the state vector).\n",
        "   - Example: \"101\" → Basis state |101⟩ (index 5 in the state vector).\n",
        "   - Example: \"110\" → Basis state |110⟩ (index 6 in the state vector).\n",
        "   - Example: \"111\" → Basis state |111⟩ (index 7 in the state vector).\n",
        "   \n",
        "\n",
        "2. **Constructing the State Vector:**\n",
        "   - The state vector is initialized to all zeros.\n",
        "   - The elements corresponding to the chosen bit strings are set to 1.\n",
        "   - The state is **normalized** to ensure it remains a valid quantum state.\n",
        "\n",
        "3. **Final Quantum State:**\n",
        "   - The system is now in a **superposition** of the selected basis states.\n",
        "\n",
        "\n",
        "## Setup"
      ],
      "metadata": {
        "id": "uZLBBopaE3xX"
      }
    },
    {
      "cell_type": "code",
      "source": [],
      "metadata": {
        "id": "9C-uUcwkGE8Y"
      },
      "execution_count": null,
      "outputs": []
    },
    {
      "cell_type": "code",
      "source": [
        "! pip install -q qiskit==1.3.1 pylatexenc"
      ],
      "metadata": {
        "id": "KaZvOdLV_mPu"
      },
      "execution_count": null,
      "outputs": []
    },
    {
      "cell_type": "markdown",
      "source": [
        "## Step 1: Define the Bit Strings and Encode into State Vector\n",
        "\n",
        "### Mapping Bit Strings to the State Vector\n",
        "\n",
        "\n",
        "In this example, we select the bit strings \"000\", \"111\", and \"001\" and set their corresponding state vector elements to 1. Afterward, we normalize the state vector to ensure it represents a valid quantum state."
      ],
      "metadata": {
        "id": "oQz_8NHMCSqv"
      }
    },
    {
      "cell_type": "code",
      "execution_count": null,
      "metadata": {
        "colab": {
          "base_uri": "https://localhost:8080/",
          "height": 117
        },
        "id": "QFJeVeGP_jdz",
        "outputId": "c3a1b585-bd17-4877-ed4a-839cbb347904"
      },
      "outputs": [
        {
          "output_type": "stream",
          "name": "stdout",
          "text": [
            "Non-normalized State Vector:\n",
            "[1. 1. 0. 0. 0. 0. 0. 1.]\n",
            "\n",
            "Normalized State Vector:\n"
          ]
        },
        {
          "output_type": "execute_result",
          "data": {
            "text/plain": [
              "<IPython.core.display.Latex object>"
            ],
            "text/latex": "$$\n\n\\begin{bmatrix}\n\\frac{\\sqrt{3}}{3} & \\frac{\\sqrt{3}}{3} & 0 & 0 & 0 & 0 & 0 & \\frac{\\sqrt{3}}{3}  \\\\\n \\end{bmatrix}\n$$"
          },
          "metadata": {},
          "execution_count": 2
        }
      ],
      "source": [
        "import numpy as np\n",
        "from qiskit import QuantumCircuit, transpile\n",
        "from qiskit.quantum_info import Statevector\n",
        "from qiskit.visualization import array_to_latex\n",
        "\n",
        "# --- Step 1: Define the Bit Strings and Encode into State Vector ---\n",
        "# We consider the bit strings: \"000\", \"111\", and \"001\"\n",
        "# Each corresponds to the respective index in a 3-qubit state vector.\n",
        "\n",
        "num_qubits = 3\n",
        "num_states = 3  # The number of basis states we are encoding\n",
        "\n",
        "# Initialize a state vector with zero amplitudes\n",
        "# Technically, `dtype` shoule be `complex`, but all imaginary components = 0\n",
        "state_vector = np.zeros(2**num_qubits, dtype=float)\n",
        "\n",
        "# Define the bitstrings and their corresponding indices in the state vector\n",
        "bitstrings = [\"000\", \"111\", \"001\"]\n",
        "indices = [int(b, 2) for b in bitstrings]  # Convert binary strings to decimal indices\n",
        "\n",
        "# Set the corresponding elements in the state vector to 1\n",
        "for idx in indices:\n",
        "    state_vector[idx] = 1\n",
        "\n",
        "# Display the non-normalized state vector\n",
        "print(\"Non-normalized State Vector:\")\n",
        "print(state_vector)\n",
        "\n",
        "\n",
        "# Normalize the state vector\n",
        "state_vector /= np.linalg.norm(state_vector)\n",
        "\n",
        "# Display the normalized state vector\n",
        "print(\"\\nNormalized State Vector:\")\n",
        "array_to_latex(state_vector)\n"
      ]
    },
    {
      "cell_type": "markdown",
      "source": [
        "## Step 2: Convert the State Vector into a Quantum Circuit"
      ],
      "metadata": {
        "id": "IAU8wz9IDFSN"
      }
    },
    {
      "cell_type": "code",
      "source": [
        "qc = QuantumCircuit(num_qubits)\n",
        "initial_state = Statevector(state_vector)\n",
        "qc.prepare_state(initial_state, [0, 1, 2])\n",
        "\n",
        "\n",
        "# visualize the Circuit\n",
        "qc.draw(output='mpl')\n",
        "\n",
        "\n"
      ],
      "metadata": {
        "colab": {
          "base_uri": "https://localhost:8080/",
          "height": 255
        },
        "id": "pHaMGfqlCrqT",
        "outputId": "fa0a27d5-ce44-45d3-f9fc-c6a2d511b2c6"
      },
      "execution_count": null,
      "outputs": [
        {
          "output_type": "execute_result",
          "data": {
            "text/plain": [
              "<Figure size 454.719x284.278 with 1 Axes>"
            ],
            "image/png": "[encoded data removed]"
          },
          "metadata": {},
          "execution_count": 3
        }
      ]
    },
    {
      "cell_type": "markdown",
      "source": [
        "##  Step 3: Transpile the Circuit into rx, ry, rz, and CNOT Gates\n",
        "This process is typically exponentially complex because it involves decomposing arbitrary quantum operations into a limited set of elementary gates. For comparison of algorithms used to perform the conversion, please see [this](https://arxiv.org/abs/2407.15745) paper."
      ],
      "metadata": {
        "id": "DpLVJk9iDoq6"
      }
    },
    {
      "cell_type": "code",
      "source": [
        "transpiled_circuit = transpile(qc, basis_gates=['rx', 'ry', 'rz', 'cx'])\n",
        "\n",
        "# Display the transpiled circuit\n",
        "transpiled_circuit.draw(output='mpl')\n"
      ],
      "metadata": {
        "colab": {
          "base_uri": "https://localhost:8080/",
          "height": 267
        },
        "id": "XlxP6OowBrPF",
        "outputId": "d950c33a-2aac-4fcf-cea5-bb4e14352277"
      },
      "execution_count": null,
      "outputs": [
        {
          "output_type": "execute_result",
          "data": {
            "text/plain": [
              "<Figure size 1040x284.278 with 1 Axes>"
            ],
            "image/png": "[encoded data removed]"
          },
          "metadata": {},
          "execution_count": 4
        }
      ]
    }
  ]
}