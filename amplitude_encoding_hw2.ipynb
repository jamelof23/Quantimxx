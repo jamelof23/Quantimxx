{
  "nbformat": 4,
  "nbformat_minor": 0,
  "metadata": {
    "colab": {
      "provenance": [],
      "include_colab_link": true
    },
    "kernelspec": {
      "name": "python3",
      "display_name": "Python 3"
    },
    "language_info": {
      "name": "python"
    }
  },
  "cells": [
    {
      "cell_type": "markdown",
      "metadata": {
        "id": "view-in-github",
        "colab_type": "text"
      },
      "source": [
        "<a href=\"https://colab.research.google.com/github/jamelof23/Quantimxx/blob/main/amplitude_encoding_hw2.ipynb\" target=\"_parent\"><img src=\"https://colab.research.google.com/assets/colab-badge.svg\" alt=\"Open In Colab\"/></a>"
      ]
    },
    {
      "cell_type": "markdown",
      "source": [
        "# Classical Data Encoding using Amplitude Encoding\n",
        "\n",
        "## Objective\n",
        "We demonstrate how to encode classical data into the **amplitudes** of a quantum state vector, normalize the state, convert it into a quantum circuit, and transpile the circuit into a gate set consisting of u1, u2, u3, and CNOT gates.\n",
        "\n",
        "## Amplitude Encoding Explanation\n",
        "This method follows **amplitude encoding** because the classical data values are mapped into the amplitudes of the quantum state, see the [glossary](https://pennylane.ai/qml/glossary/quantum_embedding) for details.\n",
        "\n",
        "### Why is this Amplitude Encoding?\n",
        "- In **amplitude encoding**, classical data is represented by the amplitudes of the quantum state vector rather than basis states.\n",
        "- The state vector is constructed such that the classical values are encoded as the probability amplitudes of the quantum system.\n",
        "- The final quantum state is a **superposition** of basis states with amplitudes determined by the classical data.\n",
        "\n",
        "### Breakdown of Encoding in This Lab:\n",
        "1. **Constructing the State Vector (Classical Data to Amplitudes Mapping):**\n",
        "   - The state vector elements are set to correspond to the normalized classical data.\n",
        "   - The state is **normalized** to ensure it remains a valid quantum state.\n",
        "\n",
        "2. **Final Quantum State:**\n",
        "   - The system is now in a **superposition** where each basis state has an amplitude representing the encoded data.\n",
        "\n",
        "\n",
        "\n",
        "## Setup"
      ],
      "metadata": {
        "id": "uZLBBopaE3xX"
      }
    },
    {
      "cell_type": "code",
      "source": [
        "! pip install -q qiskit==1.3.1 pylatexenc"
      ],
      "metadata": {
        "colab": {
          "base_uri": "https://localhost:8080/"
        },
        "id": "KaZvOdLV_mPu",
        "outputId": "47841c5e-fde6-42b6-cde8-6d2502911f14"
      },
      "execution_count": null,
      "outputs": [
        {
          "output_type": "stream",
          "name": "stdout",
          "text": [
            "\u001b[?25l     \u001b[90m━━━━━━━━━━━━━━━━━━━━━━━━━━━━━━━━━━━━━━━━\u001b[0m \u001b[32m0.0/162.6 kB\u001b[0m \u001b[31m?\u001b[0m eta \u001b[36m-:--:--\u001b[0m\r\u001b[2K     \u001b[90m━━━━━━━━━━━━━━━━━━━━━━━━━━━━━━━━━━━━━━━━\u001b[0m \u001b[32m162.6/162.6 kB\u001b[0m \u001b[31m7.9 MB/s\u001b[0m eta \u001b[36m0:00:00\u001b[0m\n",
            "\u001b[?25h  Preparing metadata (setup.py) ... \u001b[?25l\u001b[?25hdone\n",
            "\u001b[2K   \u001b[90m━━━━━━━━━━━━━━━━━━━━━━━━━━━━━━━━━━━━━━━━\u001b[0m \u001b[32m6.7/6.7 MB\u001b[0m \u001b[31m48.2 MB/s\u001b[0m eta \u001b[36m0:00:00\u001b[0m\n",
            "\u001b[2K   \u001b[90m━━━━━━━━━━━━━━━━━━━━━━━━━━━━━━━━━━━━━━━━\u001b[0m \u001b[32m119.4/119.4 kB\u001b[0m \u001b[31m7.9 MB/s\u001b[0m eta \u001b[36m0:00:00\u001b[0m\n",
            "\u001b[2K   \u001b[90m━━━━━━━━━━━━━━━━━━━━━━━━━━━━━━━━━━━━━━━━\u001b[0m \u001b[32m2.1/2.1 MB\u001b[0m \u001b[31m48.8 MB/s\u001b[0m eta \u001b[36m0:00:00\u001b[0m\n",
            "\u001b[2K   \u001b[90m━━━━━━━━━━━━━━━━━━━━━━━━━━━━━━━━━━━━━━━━\u001b[0m \u001b[32m49.5/49.5 kB\u001b[0m \u001b[31m3.1 MB/s\u001b[0m eta \u001b[36m0:00:00\u001b[0m\n",
            "\u001b[2K   \u001b[90m━━━━━━━━━━━━━━━━━━━━━━━━━━━━━━━━━━━━━━━━\u001b[0m \u001b[32m49.7/49.7 MB\u001b[0m \u001b[31m16.4 MB/s\u001b[0m eta \u001b[36m0:00:00\u001b[0m\n",
            "\u001b[2K   \u001b[90m━━━━━━━━━━━━━━━━━━━━━━━━━━━━━━━━━━━━━━━━\u001b[0m \u001b[32m109.0/109.0 kB\u001b[0m \u001b[31m6.6 MB/s\u001b[0m eta \u001b[36m0:00:00\u001b[0m\n",
            "\u001b[?25h  Building wheel for pylatexenc (setup.py) ... \u001b[?25l\u001b[?25hdone\n"
          ]
        }
      ]
    },
    {
      "cell_type": "markdown",
      "source": [
        "## Step 1: Define the Classical Data and Encode into State Vector\n",
        "\n",
        "### Mapping Classical Data to Amplitudes\n",
        "\n",
        "In this example, we select the data `[3, 1, 4, 1]` and map it to a 2-qubit quantum state using amplitude encoding."
      ],
      "metadata": {
        "id": "oQz_8NHMCSqv"
      }
    },
    {
      "cell_type": "code",
      "execution_count": null,
      "metadata": {
        "colab": {
          "base_uri": "https://localhost:8080/"
        },
        "id": "QFJeVeGP_jdz",
        "outputId": "fbbc0048-f3a2-40fe-c985-057ec51011fc"
      },
      "outputs": [
        {
          "output_type": "stream",
          "name": "stdout",
          "text": [
            "Normalized State Vector:\n",
            "[0.57735027 0.19245009 0.76980036 0.19245009]\n"
          ]
        }
      ],
      "source": [
        "import numpy as np\n",
        "from qiskit import QuantumCircuit, transpile\n",
        "from qiskit.quantum_info import Statevector\n",
        "\n",
        "# --- Step 1: Define the Classical Data and Encode into State Vector ---\n",
        "# Example dataset\n",
        "classical_data = np.array([3, 1, 4, 1], dtype=float)\n",
        "\n",
        "# Normalize the data to create a valid quantum state\n",
        "state_vector = classical_data / np.linalg.norm(classical_data)\n",
        "\n",
        "# Display the normalized state vector\n",
        "print(\"Normalized State Vector:\")\n",
        "print(state_vector)\n"
      ]
    },
    {
      "cell_type": "markdown",
      "source": [
        "## Step 2: Convert the State Vector into a Quantum Circuit"
      ],
      "metadata": {
        "id": "IAU8wz9IDFSN"
      }
    },
    {
      "cell_type": "code",
      "source": [
        "num_qubits = int(np.ceil(np.log2(len(state_vector))))\n",
        "qc = QuantumCircuit(num_qubits)\n",
        "initial_state = Statevector(state_vector)\n",
        "qc.prepare_state(initial_state, range(num_qubits))\n",
        "\n",
        "# visualize the Circuit\n",
        "qc.draw(output='mpl')"
      ],
      "metadata": {
        "colab": {
          "base_uri": "https://localhost:8080/",
          "height": 191
        },
        "id": "pHaMGfqlCrqT",
        "outputId": "74ece2d8-ab76-4d61-87df-5492db0e6bc0"
      },
      "execution_count": null,
      "outputs": [
        {
          "output_type": "execute_result",
          "data": {
            "text/plain": [
              "<Figure size 370.906x200.667 with 1 Axes>"
            ],
            "image/png": "[encoded data removed]"
          },
          "metadata": {},
          "execution_count": 9
        }
      ]
    },
    {
      "cell_type": "markdown",
      "source": [
        "##  Step 3: Transpile the Circuit into u1, u2, u3, and CNOT Gates\n",
        "This process is typically exponentially complex because it involves decomposing arbitrary quantum operations into a limited set of elementary gates. For comparison of algorithms please see [this](https://arxiv.org/abs/2407.15745) paper."
      ],
      "metadata": {
        "id": "DpLVJk9iDoq6"
      }
    },
    {
      "cell_type": "code",
      "source": [
        "transpiled_circuit = transpile(qc, basis_gates=['u1', 'u2', 'u3', 'cx'])\n",
        "\n",
        "# Display the transpiled circuit\n",
        "transpiled_circuit.draw(output='mpl')\n"
      ],
      "metadata": {
        "colab": {
          "base_uri": "https://localhost:8080/",
          "height": 202
        },
        "id": "XlxP6OowBrPF",
        "outputId": "e3c24678-6427-413d-e132-6a32b9c6bcc3"
      },
      "execution_count": null,
      "outputs": [
        {
          "output_type": "execute_result",
          "data": {
            "text/plain": [
              "<Figure size 454.517x200.667 with 1 Axes>"
            ],
            "image/png": "[encoded data removed]"
          },
          "metadata": {},
          "execution_count": 8
        }
      ]
    }
  ]
}